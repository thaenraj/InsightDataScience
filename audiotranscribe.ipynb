{
  "nbformat": 4,
  "nbformat_minor": 0,
  "metadata": {
    "colab": {
      "name": "audiotranscribe.ipynb",
      "provenance": [],
      "authorship_tag": "ABX9TyN+kX10DC6+C1KGZgXOMOJ8",
      "include_colab_link": true
    },
    "kernelspec": {
      "name": "python3",
      "display_name": "Python 3"
    }
  },
  "cells": [
    {
      "cell_type": "markdown",
      "metadata": {
        "id": "view-in-github",
        "colab_type": "text"
      },
      "source": [
        "<a href=\"https://colab.research.google.com/github/thaenraj/InsightDataScience/blob/master/audiotranscribe.ipynb\" target=\"_parent\"><img src=\"https://colab.research.google.com/assets/colab-badge.svg\" alt=\"Open In Colab\"/></a>"
      ]
    },
    {
      "cell_type": "code",
      "metadata": {
        "id": "sMh0mUZMzfhx"
      },
      "source": [
        ""
      ],
      "execution_count": null,
      "outputs": []
    },
    {
      "cell_type": "code",
      "metadata": {
        "colab": {
          "base_uri": "https://localhost:8080/"
        },
        "id": "3K0uWAgyN_J1",
        "outputId": "63337180-6308-4002-c8c2-ad31485250d2"
      },
      "source": [
        "from google.colab import drive\r\n",
        "drive.mount('/content/drive')\r\n",
        "%cd '/content/drive/MyDrive'"
      ],
      "execution_count": null,
      "outputs": [
        {
          "output_type": "stream",
          "text": [
            "Mounted at /content/drive\n",
            "/content/drive/MyDrive\n"
          ],
          "name": "stdout"
        }
      ]
    },
    {
      "cell_type": "code",
      "metadata": {
        "colab": {
          "base_uri": "https://localhost:8080/"
        },
        "id": "5C9sfU0p0Ebh",
        "outputId": "0bfbdf93-4185-4dc2-effc-ca22c4c5e053"
      },
      "source": [
        "pip install ibm_watson"
      ],
      "execution_count": null,
      "outputs": [
        {
          "output_type": "stream",
          "text": [
            "Collecting ibm_watson\n",
            "\u001b[?25l  Downloading https://files.pythonhosted.org/packages/9b/88/395d7d52df29f321ae1150cf9b5a71cef8611570230502597c427bc1e9d9/ibm-watson-5.1.0.tar.gz (382kB)\n",
            "\u001b[K     |████████████████████████████████| 389kB 5.5MB/s \n",
            "\u001b[?25hRequirement already satisfied: requests<3.0,>=2.0 in /usr/local/lib/python3.6/dist-packages (from ibm_watson) (2.23.0)\n",
            "Requirement already satisfied: python_dateutil>=2.5.3 in /usr/local/lib/python3.6/dist-packages (from ibm_watson) (2.8.1)\n",
            "Collecting websocket-client==0.48.0\n",
            "\u001b[?25l  Downloading https://files.pythonhosted.org/packages/8a/a1/72ef9aa26cfe1a75cee09fc1957e4723add9de098c15719416a1ee89386b/websocket_client-0.48.0-py2.py3-none-any.whl (198kB)\n",
            "\u001b[K     |████████████████████████████████| 204kB 41.7MB/s \n",
            "\u001b[?25hCollecting ibm_cloud_sdk_core>=3.3.6\n",
            "  Downloading https://files.pythonhosted.org/packages/5d/e5/4f8f96cd1435b914f59238a9eb6489c21ba4333e879c3fc52ff00f98b24e/ibm-cloud-sdk-core-3.5.0.tar.gz\n",
            "Requirement already satisfied: chardet<4,>=3.0.2 in /usr/local/lib/python3.6/dist-packages (from requests<3.0,>=2.0->ibm_watson) (3.0.4)\n",
            "Requirement already satisfied: idna<3,>=2.5 in /usr/local/lib/python3.6/dist-packages (from requests<3.0,>=2.0->ibm_watson) (2.10)\n",
            "Requirement already satisfied: certifi>=2017.4.17 in /usr/local/lib/python3.6/dist-packages (from requests<3.0,>=2.0->ibm_watson) (2020.12.5)\n",
            "Requirement already satisfied: urllib3!=1.25.0,!=1.25.1,<1.26,>=1.21.1 in /usr/local/lib/python3.6/dist-packages (from requests<3.0,>=2.0->ibm_watson) (1.24.3)\n",
            "Requirement already satisfied: six>=1.5 in /usr/local/lib/python3.6/dist-packages (from python_dateutil>=2.5.3->ibm_watson) (1.15.0)\n",
            "Collecting PyJWT<3.0.0,>=2.0.1\n",
            "  Downloading https://files.pythonhosted.org/packages/b4/9b/8850f99027ed029af6828199cc87179eaccbbf1f9e6e373e7f0177d32dad/PyJWT-2.0.1-py3-none-any.whl\n",
            "Building wheels for collected packages: ibm-watson, ibm-cloud-sdk-core\n",
            "  Building wheel for ibm-watson (setup.py) ... \u001b[?25l\u001b[?25hdone\n",
            "  Created wheel for ibm-watson: filename=ibm_watson-5.1.0-cp36-none-any.whl size=375439 sha256=c874cc2de6d67c2dca0efc3a877129cd9137be45fa074d493ad09d1a61b769a8\n",
            "  Stored in directory: /root/.cache/pip/wheels/49/6d/cf/1d91261b96363da78bf9b02699fd2262e6b5dad179500690c1\n",
            "  Building wheel for ibm-cloud-sdk-core (setup.py) ... \u001b[?25l\u001b[?25hdone\n",
            "  Created wheel for ibm-cloud-sdk-core: filename=ibm_cloud_sdk_core-3.5.0-cp36-none-any.whl size=56069 sha256=53d5b056dc547df56b1654caba92768f3fcde29ca0b96b4a7350dba0c4c355b6\n",
            "  Stored in directory: /root/.cache/pip/wheels/ec/36/df/b90cee121a9034824729a37e5e6c5e71ded9321ce221e492a7\n",
            "Successfully built ibm-watson ibm-cloud-sdk-core\n",
            "Installing collected packages: websocket-client, PyJWT, ibm-cloud-sdk-core, ibm-watson\n",
            "Successfully installed PyJWT-2.0.1 ibm-cloud-sdk-core-3.5.0 ibm-watson-5.1.0 websocket-client-0.48.0\n"
          ],
          "name": "stdout"
        }
      ]
    },
    {
      "cell_type": "code",
      "metadata": {
        "colab": {
          "base_uri": "https://localhost:8080/"
        },
        "id": "_Yy0N30WzwbA",
        "outputId": "816825f9-b81f-429f-bbdd-697115499267"
      },
      "source": [
        "! ls -l *.mp3\r\n"
      ],
      "execution_count": null,
      "outputs": [
        {
          "output_type": "stream",
          "text": [
            "-rw------- 1 root root 57212758 Jan 28 05:14 DiscussionOfProviderAndADAPWithEricAndGeorge-Actuarial-20201218.mp3\n"
          ],
          "name": "stdout"
        }
      ]
    },
    {
      "cell_type": "code",
      "metadata": {
        "colab": {
          "base_uri": "https://localhost:8080/"
        },
        "id": "_7Xgrid9z--8",
        "outputId": "26bf07c5-dea0-4eef-bb11-1d6754fce890"
      },
      "source": [
        "\r\n",
        "from os.path import join, dirname\r\n",
        "from ibm_watson import SpeechToTextV1\r\n",
        "from ibm_watson.websocket import RecognizeCallback, AudioSource\r\n",
        "import threading\r\n",
        "from ibm_cloud_sdk_core.authenticators import IAMAuthenticator\r\n",
        "import os \r\n",
        "import shutil\r\n",
        "import fnmatch\r\n",
        "import time \r\n",
        "print (os.getcwd())\r\n",
        "import json "
      ],
      "execution_count": null,
      "outputs": [
        {
          "output_type": "stream",
          "text": [
            "/content/drive/My Drive\n"
          ],
          "name": "stdout"
        }
      ]
    },
    {
      "cell_type": "code",
      "metadata": {
        "id": "wc3cp04w0Rt1"
      },
      "source": [
        "# pass API Key -- todolist\r\n",
        "def Watson_IAM_authentication ():\r\n",
        "    authenticator = IAMAuthenticator('<Place holder for APIKEY>')\r\n",
        "    service = SpeechToTextV1(authenticator=authenticator)\r\n",
        "    service.set_service_url('https://stream.watsonplatform.net/speech-to-text/api')\r\n",
        "    return service\r\n",
        "\r\n",
        "# function used to call a watson service for getting the transcribe for a audio file \r\n",
        "def transcribe_audio (workpath,service,json_filename):\r\n",
        "    print (workpath)\r\n",
        "    #newfile = join(dirname(__file__), 'output.json')\r\n",
        "    #print (filepath)\r\n",
        "    txt_transcript=''\r\n",
        "    #outfile = open(newfile, 'w')\r\n",
        "    #__file__ = r'D:\\workarea\\NLP_Demo'\r\n",
        "    #input_file = r\"Lopez_John_98514763_1_25_2018_8_18_36_PM_english.wav\"\r\n",
        "    #audio_file = open(join(dirname(__file__), input_file), 'rb')\r\n",
        "    # instantiate the \r\n",
        "    model = service.get_model('en-US_BroadbandModel').get_result()\r\n",
        "    print(json.dumps(model, indent=2))\r\n",
        "    print ('calling the model for test data %s'  %(workpath))\r\n",
        "    with open(workpath, 'rb') as audio_file:\r\n",
        "        #json.dump(result, fp, indent=2)\r\n",
        "        transcribe_json = json.dumps(\r\n",
        "            service.recognize(\r\n",
        "                audio=audio_file,\r\n",
        "                model='en-US_NarrowbandModel',\r\n",
        "                continuous=True, \r\n",
        "                #timestamps=False,\r\n",
        "                # max_alternatives=1,\r\n",
        "                content_type='audio/mp3',\r\n",
        "                #timestamps=True,\r\n",
        "                word_confidence=True).get_result(),\r\n",
        "            indent=2)\r\n",
        "    # commented \r\n",
        "    print ('inside transcribe audio %s ' %(workpath))\r\n",
        "    print (json_filename)\r\n",
        "    output_filename = json_filename.split('.')[0] +'.json'\r\n",
        "    print ('write the %s ' %(output_filename))\r\n",
        "    outfile = open(output_filename, 'w')\r\n",
        "    outfile.write(transcribe_json)\r\n",
        "    outfile.close()\r\n"
      ],
      "execution_count": null,
      "outputs": []
    },
    {
      "cell_type": "code",
      "metadata": {
        "id": "36cH0A0K0hoU"
      },
      "source": [
        "#function to get  json output file for the specified json file  \r\n",
        "import json\r\n",
        "def flatten_json_text ( json_filename):\r\n",
        "    print (json_filename)\r\n",
        "    txt_transcript  =''\r\n",
        "    ##print ('basepath %s'  %(basepath))\r\n",
        "    print ('json file name is %s' %(json_filename) )\r\n",
        "    json_data=open(json_filename).read()\r\n",
        "    output_filename = json_filename.split('.')[0] +'.txt'\r\n",
        "    print ('outputfilename %s before write' %(output_filename))\r\n",
        "    outfile = open(output_filename, 'a')\r\n",
        "    print (output_filename)\r\n",
        "    transcript = [] \r\n",
        "    data = json.loads(json_data)\r\n",
        "    for x in data:\r\n",
        "        print (x)\r\n",
        "        if (x == \"results\" ):\r\n",
        "            #transcript.append( data[x] )\r\n",
        "            #print( data[x])\r\n",
        "            for y in data[x] :\r\n",
        "                print(y[\"alternatives\"][0]) \r\n",
        "                for z in y[\"alternatives\"] :\r\n",
        "                    #print (z[\"transcript\"] )\r\n",
        "                    transcript= z[\"transcript\"]\r\n",
        "                    print (transcript)\r\n",
        "                    outfile.write(transcript)\r\n",
        "    print (transcript)   \r\n",
        "    outfile.close()\r\n"
      ],
      "execution_count": null,
      "outputs": []
    },
    {
      "cell_type": "code",
      "metadata": {
        "id": "G2FHQADQ0lUp"
      },
      "source": [
        "if __name__ == '__main__':\r\n",
        "    path = r\"/content/drive/My Drive\"\r\n",
        "    \r\n",
        "    #for root, files in os.walk(path):\r\n",
        "        #print (root)\r\n",
        "        #dirs[:] = [d for d in dirs if not d.startswith('.')]\r\n",
        "        #for dir in dirs:\r\n",
        "    print (path)\r\n",
        "    #files = [f for f in os.listdir(path) ]\r\n",
        "    #print (files)\r\n",
        "    #for item in fnmatch.filter(files, \"*.wav\"):\r\n",
        "    #get full path of txt file\r\n",
        "    filePath = []\r\n",
        "    workingpath = path\r\n",
        "    for file in os.listdir(path):\r\n",
        "        filePath.append(os.path.join(workingpath, file))\r\n",
        "    for item in fnmatch.filter(filePath, \"*.mp3\"):\r\n",
        "            file = item\r\n",
        "            print (file)\r\n",
        "            workpath = file\r\n",
        "            print ('the workpath is %s ' %(file))\r\n",
        "            #fname =  os.path.splitext(os.path.basename(workpath)) [0]\r\n",
        "            print (file)\r\n",
        "            # step 1: call the  IBM watson call IBM watson API with IAM info and get model for testing \r\n",
        "            service  = Watson_IAM_authentication() \r\n",
        "            print ('calling the transcibe with the service model ...')\r\n",
        "            # call the transcribe function \r\n",
        "            json_filename =   file.split('.')[0] + \".json\"\r\n",
        "            print ('the json output file path is %s ' %(json_filename))\r\n",
        "            print ('path o the workpath before calling tghe audio ntransribe is %s'  %(workpath))\r\n",
        "            response_json = transcribe_audio (workpath,service,json_filename)\r\n",
        "            #print (response_json)\r\n",
        "            # async todolist\r\n",
        "            time.sleep(1)\r\n",
        "            print ( 'calling the flatten json file ...')\r\n",
        "            print ('json file name %s' %(json_filename))\r\n",
        "        "
      ],
      "execution_count": null,
      "outputs": []
    },
    {
      "cell_type": "code",
      "metadata": {
        "colab": {
          "base_uri": "https://localhost:8080/"
        },
        "id": "I3nH25jb-7BL",
        "outputId": "6613d620-12f4-4143-a7e1-4976367b53ba"
      },
      "source": [
        "#flatten_json_text (json_filename)\r\n",
        "print (\"above line is commented \")"
      ],
      "execution_count": 1,
      "outputs": [
        {
          "output_type": "stream",
          "text": [
            "above line is commented \n"
          ],
          "name": "stdout"
        }
      ]
    },
    {
      "cell_type": "code",
      "metadata": {
        "id": "u912cD_Z_OlJ"
      },
      "source": [
        ""
      ],
      "execution_count": null,
      "outputs": []
    }
  ]
}